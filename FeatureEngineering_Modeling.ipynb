{
  "cells": [
    {
      "cell_type": "code",
      "source": [
        "import os\n",
        "pyspark_submit_args = '--packages org.mongodb.spark:mongo-spark-connector_2.11:2.4.0 pyspark-shell'\n",
        "os.environ[\"PYSPARK_SUBMIT_ARGS\"] = pyspark_submit_args"
      ],
      "outputs": [],
      "execution_count": 1,
      "metadata": {}
    },
    {
      "cell_type": "code",
      "source": [
        "from pyspark import SparkContext\n",
        "from pyspark.sql import SparkSession\n",
        "from pyspark.sql.types import *\n",
        "from pyspark.ml.feature import StringIndexer\n",
        "from pyspark.ml.feature import OneHotEncoder\n",
        "from pyspark.ml.clustering import KMeans\n",
        "from pyspark.ml.feature import VectorAssembler\n",
        "from pyspark.sql.functions import *\n",
        "from pyspark.ml.evaluation import ClusteringEvaluator\n",
        "import math\n",
        "import time\n",
        "from matplotlib import pyplot as plt\n",
        "from pyspark.sql.window import Window "
      ],
      "outputs": [],
      "execution_count": 2,
      "metadata": {}
    },
    {
      "cell_type": "code",
      "source": [
        "sparkConf = SparkConf().setMaster(\"local[3]\")\\\n",
        "                       .setAppName(\"project\")\\\n",
        "                       .setAll([('spark.excutor.memory', '14g'),\n",
        "                                ('spark.executor.cores', '8'),\n",
        "                                ('spark.cores.max', '12'),\n",
        "                                ('spark.driver.memory', '14g'),\n",
        "                                ('spark.driver.maxResultSize', '14g')])\n",
        "sparkConf.set(\"spark.mongodb.input.uri\", \"mongodb://3.88.54.198/nypt.f_15_new\")\n",
        "#sc = SparkContext(conf = sparkConf)"
      ],
      "outputs": [
        {
          "output_type": "execute_result",
          "execution_count": 3,
          "data": {
            "text/plain": [
              "<pyspark.conf.SparkConf at 0x7ff7bfd77310>"
            ]
          },
          "metadata": {}
        }
      ],
      "execution_count": 3,
      "metadata": {}
    },
    {
      "cell_type": "code",
      "source": [
        "spark = SparkSession \\\n",
        "    .builder \\\n",
        "    .appName(\"myApp\") \\\n",
        "    .config(conf=sparkConf)\\\n",
        "    .getOrCreate()"
      ],
      "outputs": [],
      "execution_count": 4,
      "metadata": {}
    },
    {
      "cell_type": "code",
      "source": [
        "# origin_col = [\"issue_month\", \"issue_quarter\", \"issue_weekday\", \"issue_year\", \n",
        "#               \"plate_type\", \"plate_type_class\", \"registration_state\", \"veh_body_type_class\",\n",
        "#               \"veh_color_group\", \"veh_make_class\", \"veh_year\", \"violation_code\", \"violation_county\",\n",
        "#               \"violation_infront_oppos\", \"violation_precinct\", \"violation_time\"]\n",
        "\n",
        "# schema = StructType([StructField(\"_id\",StructType([StructField(\"oid\",StringType(),True)]),True)] + \n",
        "#     [StructField(c,StringType(),True) for c in origin_col]\n",
        "#                    )"
      ],
      "outputs": [],
      "execution_count": 5,
      "metadata": {}
    },
    {
      "cell_type": "code",
      "source": [
        "#case class Character(name: String, age: Int)"
      ],
      "outputs": [],
      "execution_count": 6,
      "metadata": {}
    },
    {
      "cell_type": "code",
      "source": [
        "df_15 = spark.read.format(\"com.mongodb.spark.sql.DefaultSource\").load()"
      ],
      "outputs": [],
      "execution_count": 7,
      "metadata": {}
    },
    {
      "cell_type": "code",
      "source": [
        "df_15.printSchema()"
      ],
      "outputs": [
        {
          "output_type": "stream",
          "name": "stdout",
          "text": [
            "root\n",
            " |-- _id: struct (nullable = true)\n",
            " |    |-- oid: string (nullable = true)\n",
            " |-- issue_month: integer (nullable = true)\n",
            " |-- issue_quarter: integer (nullable = true)\n",
            " |-- issue_weekday: integer (nullable = true)\n",
            " |-- issue_year: integer (nullable = true)\n",
            " |-- plate_type: string (nullable = true)\n",
            " |-- plate_type_class: string (nullable = true)\n",
            " |-- registration_state: string (nullable = true)\n",
            " |-- veh_body_type_class: string (nullable = true)\n",
            " |-- veh_color_group: string (nullable = true)\n",
            " |-- veh_make_class: string (nullable = true)\n",
            " |-- veh_year: string (nullable = true)\n",
            " |-- violation_code: integer (nullable = true)\n",
            " |-- violation_county: string (nullable = true)\n",
            " |-- violation_infront_oppos: string (nullable = true)\n",
            " |-- violation_precinct: integer (nullable = true)\n",
            " |-- violation_time: double (nullable = true)\n",
            "\n"
          ]
        }
      ],
      "execution_count": 8,
      "metadata": {}
    },
    {
      "cell_type": "code",
      "source": [
        "sparkConf.set(\"spark.mongodb.input.uri\", \"mongodb://3.88.54.198/nypt.f_16_new\")\n",
        "spark = SparkSession \\\n",
        "    .builder \\\n",
        "    .appName(\"myApp\") \\\n",
        "    .config(conf=sparkConf)\\\n",
        "    .getOrCreate()"
      ],
      "outputs": [],
      "execution_count": 9,
      "metadata": {}
    },
    {
      "cell_type": "code",
      "source": [
        "df_16 = spark.read.format(\"com.mongodb.spark.sql.DefaultSource\").load()"
      ],
      "outputs": [],
      "execution_count": 10,
      "metadata": {}
    },
    {
      "cell_type": "code",
      "source": [
        "df_16.printSchema()"
      ],
      "outputs": [
        {
          "output_type": "stream",
          "name": "stdout",
          "text": [
            "root\n",
            " |-- _id: struct (nullable = true)\n",
            " |    |-- oid: string (nullable = true)\n",
            " |-- issue_month: integer (nullable = true)\n",
            " |-- issue_quarter: integer (nullable = true)\n",
            " |-- issue_weekday: integer (nullable = true)\n",
            " |-- issue_year: integer (nullable = true)\n",
            " |-- plate_type: string (nullable = true)\n",
            " |-- plate_type_class: string (nullable = true)\n",
            " |-- registration_state: string (nullable = true)\n",
            " |-- veh_body_type_class: string (nullable = true)\n",
            " |-- veh_color_group: string (nullable = true)\n",
            " |-- veh_make_class: string (nullable = true)\n",
            " |-- veh_year: string (nullable = true)\n",
            " |-- violation_code: integer (nullable = true)\n",
            " |-- violation_county: string (nullable = true)\n",
            " |-- violation_infront_oppos: string (nullable = true)\n",
            " |-- violation_precinct: double (nullable = true)\n",
            " |-- violation_time: double (nullable = true)\n",
            "\n"
          ]
        }
      ],
      "execution_count": 11,
      "metadata": {}
    },
    {
      "cell_type": "code",
      "source": [
        "sparkConf.set(\"spark.mongodb.input.uri\", \"mongodb://3.88.54.198/nypt.f_17_new\")\n",
        "spark = SparkSession \\\n",
        "    .builder \\\n",
        "    .appName(\"myApp\") \\\n",
        "    .config(conf=sparkConf)\\\n",
        "    .getOrCreate()"
      ],
      "outputs": [],
      "execution_count": 12,
      "metadata": {}
    },
    {
      "cell_type": "code",
      "source": [
        "df_17 = spark.read.format(\"com.mongodb.spark.sql.DefaultSource\").load()"
      ],
      "outputs": [],
      "execution_count": 13,
      "metadata": {}
    },
    {
      "cell_type": "code",
      "source": [
        "df_17.printSchema()"
      ],
      "outputs": [
        {
          "output_type": "stream",
          "name": "stdout",
          "text": [
            "root\n",
            " |-- _id: struct (nullable = true)\n",
            " |    |-- oid: string (nullable = true)\n",
            " |-- issue_month: integer (nullable = true)\n",
            " |-- issue_quarter: integer (nullable = true)\n",
            " |-- issue_weekday: integer (nullable = true)\n",
            " |-- issue_year: integer (nullable = true)\n",
            " |-- plate_type: string (nullable = true)\n",
            " |-- plate_type_class: string (nullable = true)\n",
            " |-- registration_state: string (nullable = true)\n",
            " |-- veh_body_type_class: string (nullable = true)\n",
            " |-- veh_color_group: string (nullable = true)\n",
            " |-- veh_make_class: string (nullable = true)\n",
            " |-- veh_year: double (nullable = true)\n",
            " |-- violation_code: integer (nullable = true)\n",
            " |-- violation_county: string (nullable = true)\n",
            " |-- violation_infront_oppos: string (nullable = true)\n",
            " |-- violation_precinct: integer (nullable = true)\n",
            " |-- violation_time: double (nullable = true)\n",
            "\n"
          ]
        }
      ],
      "execution_count": 14,
      "metadata": {
        "scrolled": true
      }
    },
    {
      "cell_type": "code",
      "source": [
        "sparkConf.set(\"spark.mongodb.input.uri\", \"mongodb://3.88.54.198/nypt.f_18_new\")\n",
        "spark = SparkSession \\\n",
        "    .builder \\\n",
        "    .appName(\"myApp\") \\\n",
        "    .config(conf=sparkConf)\\\n",
        "    .getOrCreate()"
      ],
      "outputs": [],
      "execution_count": 15,
      "metadata": {}
    },
    {
      "cell_type": "code",
      "source": [
        "df_18 = spark.read.format(\"com.mongodb.spark.sql.DefaultSource\").load()"
      ],
      "outputs": [],
      "execution_count": 16,
      "metadata": {}
    },
    {
      "cell_type": "code",
      "source": [
        "df_18.printSchema()"
      ],
      "outputs": [
        {
          "output_type": "stream",
          "name": "stdout",
          "text": [
            "root\n",
            " |-- _id: struct (nullable = true)\n",
            " |    |-- oid: string (nullable = true)\n",
            " |-- issue_month: integer (nullable = true)\n",
            " |-- issue_quarter: integer (nullable = true)\n",
            " |-- issue_weekday: integer (nullable = true)\n",
            " |-- issue_year: integer (nullable = true)\n",
            " |-- plate_type_class: string (nullable = true)\n",
            " |-- registration_state: string (nullable = true)\n",
            " |-- veh_body_type_class: string (nullable = true)\n",
            " |-- veh_color_group: string (nullable = true)\n",
            " |-- veh_make_class: string (nullable = true)\n",
            " |-- veh_year: double (nullable = true)\n",
            " |-- violation_code: integer (nullable = true)\n",
            " |-- violation_county: string (nullable = true)\n",
            " |-- violation_infront_oppos: string (nullable = true)\n",
            " |-- violation_precinct: integer (nullable = true)\n",
            " |-- violation_time: double (nullable = true)\n",
            "\n"
          ]
        }
      ],
      "execution_count": 17,
      "metadata": {
        "scrolled": true
      }
    },
    {
      "cell_type": "code",
      "source": [
        "df_56 = df_15.union(df_16)\n",
        "df_567 = df_56.union(df_17)\n",
        "df_567 = df_567.drop(\"plate_type\")\n",
        "df = df_567.union(df_18)"
      ],
      "outputs": [],
      "execution_count": 18,
      "metadata": {}
    },
    {
      "cell_type": "code",
      "source": [
        "df.printSchema()"
      ],
      "outputs": [
        {
          "output_type": "stream",
          "name": "stdout",
          "text": [
            "root\n",
            " |-- _id: struct (nullable = true)\n",
            " |    |-- oid: string (nullable = true)\n",
            " |-- issue_month: integer (nullable = true)\n",
            " |-- issue_quarter: integer (nullable = true)\n",
            " |-- issue_weekday: integer (nullable = true)\n",
            " |-- issue_year: integer (nullable = true)\n",
            " |-- plate_type_class: string (nullable = true)\n",
            " |-- registration_state: string (nullable = true)\n",
            " |-- veh_body_type_class: string (nullable = true)\n",
            " |-- veh_color_group: string (nullable = true)\n",
            " |-- veh_make_class: string (nullable = true)\n",
            " |-- veh_year: string (nullable = true)\n",
            " |-- violation_code: integer (nullable = true)\n",
            " |-- violation_county: string (nullable = true)\n",
            " |-- violation_infront_oppos: string (nullable = true)\n",
            " |-- violation_precinct: double (nullable = true)\n",
            " |-- violation_time: double (nullable = true)\n",
            "\n"
          ]
        }
      ],
      "execution_count": 19,
      "metadata": {
        "scrolled": false
      }
    },
    {
      "cell_type": "code",
      "source": [
        "# parking_code = [\"6\", \"10\", \"11\", \"12\", \"13\", \"14\", \"15\", \"16\", \"17\", \"18\", \"19\", \"20\", \n",
        "#                 \"21\", \"22\", \"23\", \"24\", \"27\", \"32\", \"35\", \"37\", \"38\", \"39\", \"40\", \n",
        "#                 \"42\", \"43\", \"44\", \"45\", \"46\", \"47\", \"48\", \"49\", \"50\", \"51\", \"52\", \"53\", \"55\",\n",
        "#              \t\"56\", \"57\", \"58\", \"59\", \"60\", \"61\", \"62\", \"63\", \"66\", \"67\", \"68\", \"69\", \"70\", \n",
        "#                 \"71\", \"72\", \"73\", \"74\", \"75\", \"76\", \"77\", \"78\", \"80\", \"82\", \"83\", \n",
        "#                 \"84\", \"85\", \"86\", \"89\", \"91\", \"92\", \"93\", \"96\", \"97\", \"98\", \"99\"]\n",
        "\n",
        "parking_code = [6, 10, 11, 12, 13, 14, 15, 16, 17, 18, 19, 20, 21, 22, 23, 24, 27, 32,\n",
        "\t\t\t\t35, 37, 38, 39, 40, 42, 43, 44, 45, 46, 47, 48, 49, 50, 51, 52, 53, 55,\n",
        "             \t56, 57, 58, 59, 60, 61, 62, 63, 66, 67, 68, 69, 70, 71, 72, 73, 74, 75,\n",
        "             \t76, 77, 78, 80, 82, 83, 84, 85, 86, 89, 91, 92, 93, 96, 97, 98, 99]"
      ],
      "outputs": [],
      "execution_count": 20,
      "metadata": {}
    },
    {
      "cell_type": "code",
      "source": [
        "cluster_cols = ['veh_color_group',\\\n",
        "        'issue_month', 'issue_quarter', 'issue_weekday',\\\n",
        "        'registration_state','violation_time',\\\n",
        "        'plate_type_class','veh_body_type_class',\\\n",
        "        'veh_make_class']\n",
        "\nlocal_cols = ['violation_precinct']"
      ],
      "outputs": [],
      "execution_count": 21,
      "metadata": {}
    },
    {
      "cell_type": "code",
      "source": [
        "df_parking = df.filter(df[\"violation_code\"].isin(parking_code))"
      ],
      "outputs": [],
      "execution_count": 22,
      "metadata": {}
    },
    {
      "cell_type": "code",
      "source": [
        "# for c in (cluster_cols + local_cols):\n",
        "#     df.groupBy(\n",
        "#         df[c]).count().orderBy(\"count\",ascending=False).show()"
      ],
      "outputs": [],
      "execution_count": 23,
      "metadata": {}
    },
    {
      "cell_type": "code",
      "source": [
        "# when we clean the data, we fill na with -1, so that we need to chagne it\n",
        "df_nona = df_parking.filter(\n",
        "    (col(\"violation_time\") < 24) & (col(\"violation_time\")>=0)).persist()"
      ],
      "outputs": [],
      "execution_count": 24,
      "metadata": {}
    },
    {
      "cell_type": "code",
      "source": [
        "df_model = df_nona.select(cluster_cols)"
      ],
      "outputs": [],
      "execution_count": 25,
      "metadata": {}
    },
    {
      "cell_type": "code",
      "source": [
        "print(df_model.columns)"
      ],
      "outputs": [
        {
          "output_type": "stream",
          "name": "stdout",
          "text": [
            "['veh_color_group', 'issue_month', 'issue_quarter', 'issue_weekday', 'registration_state', 'violation_time', 'plate_type_class', 'veh_body_type_class', 'veh_make_class']\n"
          ]
        }
      ],
      "execution_count": 26,
      "metadata": {}
    },
    {
      "cell_type": "code",
      "source": [
        "str_cols = ['veh_color_group',\\\n",
        "        'registration_state',\n",
        "            'plate_type_class','veh_body_type_class', 'veh_make_class']"
      ],
      "outputs": [],
      "execution_count": 27,
      "metadata": {}
    },
    {
      "cell_type": "code",
      "source": [
        "df_nona.count()"
      ],
      "outputs": [
        {
          "output_type": "execute_result",
          "execution_count": 28,
          "data": {
            "text/plain": [
              "36566268"
            ]
          },
          "metadata": {}
        }
      ],
      "execution_count": 28,
      "metadata": {}
    },
    {
      "cell_type": "code",
      "source": [
        "def indexStringColumns(df, cols):\n",
        "    #variable newdf will be updated several times\n",
        "    newdf = df\n",
        "    for c in cols:\n",
        "        #For each given colum, fits StringIndexerModel.\n",
        "        si = StringIndexer(inputCol=c, outputCol=c+\"-num\")\n",
        "        sm = si.fit(newdf)\n",
        "        newdf = sm.transform(newdf).drop(c)\n",
        "        newdf = newdf.withColumnRenamed(c+\"-num\", c)\n",
        "    \n",
        "    return newdf\n",
        "\n",
        "dfnumeric = indexStringColumns(df_model, str_cols)\n",
        "\n",
        "# 2. one hot encoder to transform categorical data\n",
        "def oneHotEncodeColumns(df, cols):\n",
        "    newdf = df\n",
        "    for c in cols:\n",
        "        #For each given colum, create OneHotEncoder. \n",
        "        onehotenc = OneHotEncoder(inputCol=c, outputCol=c+\"-onehot\", dropLast=False)\n",
        "        newdf = onehotenc.transform(newdf).drop(c)\n",
        "        newdf = newdf.withColumnRenamed(c+\"-onehot\", c)\n",
        "    return newdf\n",
        "    \n",
        "dfhot = oneHotEncodeColumns(dfnumeric,dfnumeric.columns)\n",
        "\n",
        "# 3. feature vectors\n",
        "\n",
        "va = VectorAssembler(outputCol='features',inputCols=dfhot.columns)\n",
        "df_transformed = va.transform(dfhot).select('features').cache()"
      ],
      "outputs": [],
      "execution_count": 29,
      "metadata": {}
    },
    {
      "cell_type": "code",
      "source": [
        "df_transformed.count()"
      ],
      "outputs": [
        {
          "output_type": "execute_result",
          "execution_count": 30,
          "data": {
            "text/plain": [
              "36566268"
            ]
          },
          "metadata": {}
        }
      ],
      "execution_count": 30,
      "metadata": {}
    },
    {
      "cell_type": "code",
      "source": [
        "start = time.time()\n",
        "kmeans = KMeans().setK(10).setSeed(42).setFeaturesCol(\"features\")\n",
        "model = kmeans.fit(df_transformed)\n",
        "\n",
        "# Make predictions\n",
        "\n",
        "#evaluate the kmeans\n",
        "wssse = model.computeCost(df_transformed) \n",
        "time_model = time.time() - start\n",
        "\n",
        "print(\"Use K = 10\" )\n",
        "#print(\"Within Set Sum of Squared Errors = \" + str(wssse))\n",
        "print(\"Average distance from the center = \" + str(math.sqrt(wssse/df_transformed.count())))"
      ],
      "outputs": [
        {
          "output_type": "stream",
          "name": "stdout",
          "text": [
            "Use K = 10\n",
            "Average distance from the center = 2.12830799234\n"
          ]
        }
      ],
      "execution_count": 31,
      "metadata": {
        "scrolled": true
      }
    },
    {
      "cell_type": "code",
      "source": [
        "print(time_model)"
      ],
      "outputs": [
        {
          "output_type": "stream",
          "name": "stdout",
          "text": [
            "356.210639\n"
          ]
        }
      ],
      "execution_count": 32,
      "metadata": {}
    },
    {
      "cell_type": "code",
      "source": [
        "cost = [0 for x in range(20)]\n",
        "time_train = [0 for x in range(20)]\n",
        "for k in range(2,20):\n",
        "    start = time.time()\n",
        "    kmeans = KMeans().setK(k).setSeed(42).setFeaturesCol(\"features\")\n",
        "    model_kmeans = kmeans.fit(df_transformed.sample(False,0.1, seed=42))\n",
        "    cost[k] = model_kmeans.computeCost(df_transformed)\n",
        "    time_train[k] = time.time()-start"
      ],
      "outputs": [],
      "execution_count": 33,
      "metadata": {}
    },
    {
      "cell_type": "code",
      "source": [
        "fig, ax = plt.subplots(1,1, figsize =(8,6))\n",
        "ax.plot(range(2,20),[math.sqrt(c/df_transformed.count()) for c in cost[2:20]])\n",
        "ax.set_xlabel('k')\n",
        "ax.set_ylabel('Within Set Average distance from the center')\n",
        "ax.set_title('Cost vs Different k in K-Means Clustering')\n",
        "fig.savefig('kmean_m4_xlarge.png')"
      ],
      "outputs": [
        {
          "output_type": "display_data",
          "data": {
            "image/png": "[encoded data removed]",
            "text/plain": [
              "<Figure size 576x432 with 1 Axes>"
            ]
          },
          "metadata": {
            "needs_background": "light"
          }
        }
      ],
      "execution_count": 34,
      "metadata": {}
    },
    {
      "cell_type": "code",
      "source": [
        "fig, ax = plt.subplots(1,1, figsize =(8,6))\n",
        "ax.plot(range(2,20),time_train[2:20])\n",
        "ax.set_xlabel('k')\n",
        "ax.set_ylabel('Training time (seconds)')\n",
        "ax.set_title('Training time vs Different k in K-Means Clustering')\n",
        "fig.savefig('kmean_m4_xlarge_time.png')"
      ],
      "outputs": [
        {
          "output_type": "display_data",
          "data": {
            "image/png": "[encoded data removed]",
            "text/plain": [
              "<Figure size 576x432 with 1 Axes>"
            ]
          },
          "metadata": {
            "needs_background": "light"
          }
        }
      ],
      "execution_count": 35,
      "metadata": {}
    },
    {
      "cell_type": "code",
      "source": [
        "## Best_model\n",
        "start = time.time()\n",
        "k = 12\n",
        "kmeans = KMeans(k = k, maxIter = 200, tol = 0.1, seed=42)\n",
        "model = kmeans.fit(df_transformed)\n",
        "\n",
        "# Make predictions\n",
        "\n",
        "#evaluate the kmeans\n",
        "wssse = model.computeCost(df_transformed) \n",
        "time_model = time.time() - start\n",
        "print(\"Use K = \" + str(k))\n",
        "#print(\"Within Set Sum of Squared Errors = \" + str(wssse))\n",
        "best_average_dist = math.sqrt(wssse/df_transformed.count())\n",
        "print(\"Average distance from the center = \" + str(best_average_dist))\n",
        "best_model_time = time.time() - start"
      ],
      "outputs": [
        {
          "output_type": "stream",
          "name": "stdout",
          "text": [
            "Use K = 12\n",
            "Average distance from the center = 2.11827445572\n"
          ]
        }
      ],
      "execution_count": 36,
      "metadata": {}
    },
    {
      "cell_type": "code",
      "source": [
        "print(best_model_time)"
      ],
      "outputs": [
        {
          "output_type": "stream",
          "name": "stdout",
          "text": [
            "245.010132074\n"
          ]
        }
      ],
      "execution_count": 37,
      "metadata": {}
    },
    {
      "cell_type": "code",
      "source": [
        "transformed = model.transform(df_transformed)"
      ],
      "outputs": [],
      "execution_count": 38,
      "metadata": {}
    },
    {
      "cell_type": "code",
      "source": [
        "from pyspark.sql.window import Window as W\n",
        "\n",
        "df_nona = df_nona.withColumn(\"idx\", monotonically_increasing_id())\n",
        "windowSpec = W.orderBy(\"idx\")\n",
        "df_nona = df_nona.withColumn(\"idx\", row_number().over(windowSpec))\n",
        "\n",
        "transformed = transformed.withColumn(\"idx\", monotonically_increasing_id())\n",
        "windowSpec = W.orderBy(\"idx\")\n",
        "transformed = transformed.withColumn(\"idx\", row_number().over(windowSpec))\n",
        "\n",
        "# now, we can join the dataframes\n",
        "df_final = df_nona.join(transformed.select(['prediction', \"idx\"]), \n",
        "                        df_nona.idx == transformed.idx, how = \"left\").persist()"
      ],
      "outputs": [],
      "execution_count": 39,
      "metadata": {}
    },
    {
      "cell_type": "code",
      "source": [
        "df_final.groupby(\"prediction\").count().orderBy(\"count\",ascending=False).show()"
      ],
      "outputs": [
        {
          "output_type": "stream",
          "name": "stdout",
          "text": [
            "+----------+-------+\n",
            "|prediction|  count|\n",
            "+----------+-------+\n",
            "|         5|6437014|\n",
            "|         7|4450924|\n",
            "|        11|3988175|\n",
            "|         2|3282761|\n",
            "|         0|3273558|\n",
            "|        10|2980835|\n",
            "|         4|2700030|\n",
            "|         1|2329883|\n",
            "|         6|2074892|\n",
            "|         8|1933783|\n",
            "|         3|1686722|\n",
            "|         9|1427691|\n",
            "+----------+-------+\n",
            "\n"
          ]
        }
      ],
      "execution_count": 40,
      "metadata": {}
    },
    {
      "cell_type": "markdown",
      "source": [
        "# Top5 Precinct to aviod for group 5, 7 and 11"
      ],
      "metadata": {}
    },
    {
      "cell_type": "code",
      "source": [
        "df_final.filter(\"prediction == 5\").groupby(\n",
        "    \"violation_precinct\").count().orderBy(\n",
        "    \"count\",ascending=False).show(5)"
      ],
      "outputs": [
        {
          "output_type": "stream",
          "name": "stdout",
          "text": [
            "+------------------+------+\n",
            "|violation_precinct| count|\n",
            "+------------------+------+\n",
            "|              19.0|839533|\n",
            "|              14.0|538072|\n",
            "|               1.0|520636|\n",
            "|              18.0|486202|\n",
            "|              13.0|357687|\n",
            "+------------------+------+\n",
            "only showing top 5 rows\n",
            "\n"
          ]
        }
      ],
      "execution_count": 46,
      "metadata": {}
    },
    {
      "cell_type": "code",
      "source": [
        "df_final.filter(\"prediction == 7\").groupby(\n",
        "    \"violation_precinct\").count().orderBy(\n",
        "    \"count\",ascending=False).show(5)"
      ],
      "outputs": [
        {
          "output_type": "stream",
          "name": "stdout",
          "text": [
            "+------------------+------+\n",
            "|violation_precinct| count|\n",
            "+------------------+------+\n",
            "|             114.0|184862|\n",
            "|              19.0|171746|\n",
            "|             109.0|133710|\n",
            "|              70.0|119893|\n",
            "|             115.0|105754|\n",
            "+------------------+------+\n",
            "only showing top 5 rows\n",
            "\n"
          ]
        }
      ],
      "execution_count": 47,
      "metadata": {}
    },
    {
      "cell_type": "code",
      "source": [
        "df_final.filter(\"prediction == 11\").groupby(\n",
        "    \"violation_precinct\").count().orderBy(\n",
        "    \"count\",ascending=False).show(5)"
      ],
      "outputs": [
        {
          "output_type": "stream",
          "name": "stdout",
          "text": [
            "+------------------+------+\n",
            "|violation_precinct| count|\n",
            "+------------------+------+\n",
            "|             114.0|156834|\n",
            "|              19.0|137674|\n",
            "|             109.0|114345|\n",
            "|              70.0|111409|\n",
            "|              61.0| 93718|\n",
            "+------------------+------+\n",
            "only showing top 5 rows\n",
            "\n"
          ]
        }
      ],
      "execution_count": 49,
      "metadata": {}
    },
    {
      "cell_type": "code",
      "source": [
        "with open(\"results.txt\", \"w\") as f:\n",
        "    f.write(\"K=10, time:\" + str(time_model))\n",
        "    f.write(\"\\n\")\n",
        "    f.write(\"best_model_time:\" + str(best_model_time) + '\\n')\n",
        "    f.write(\"best_average_dist:\" + str(best_average_dist))"
      ],
      "outputs": [],
      "execution_count": 50,
      "metadata": {}
    },
    {
      "cell_type": "code",
      "source": [],
      "outputs": [],
      "execution_count": null,
      "metadata": {}
    }
  ],
  "metadata": {
    "anaconda-cloud": {},
    "kernelspec": {
      "name": "python3",
      "language": "python",
      "display_name": "Python 3"
    },
    "language_info": {
      "name": "python",
      "version": "3.6.6",
      "mimetype": "text/x-python",
      "codemirror_mode": {
        "name": "ipython",
        "version": 3
      },
      "pygments_lexer": "ipython3",
      "nbconvert_exporter": "python",
      "file_extension": ".py"
    },
    "kernel_info": {
      "name": "python3"
    },
    "nteract": {
      "version": "0.12.3"
    }
  },
  "nbformat": 4,
  "nbformat_minor": 1
}